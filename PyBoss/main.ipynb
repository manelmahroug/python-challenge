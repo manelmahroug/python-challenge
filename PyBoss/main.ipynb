{
 "cells": [
  {
   "cell_type": "code",
   "execution_count": 33,
   "metadata": {
    "collapsed": true
   },
   "outputs": [],
   "source": [
    "# https://gist.github.com/afhaque/29f0f4f37463c447770517a6c17d08f5\n",
    "us_state_abbrev = {\n",
    "    'Alabama': 'AL',\n",
    "    'Alaska': 'AK',\n",
    "    'Arizona': 'AZ',\n",
    "    'Arkansas': 'AR',\n",
    "    'California': 'CA',\n",
    "    'Colorado': 'CO',\n",
    "    'Connecticut': 'CT',\n",
    "    'Delaware': 'DE',\n",
    "    'Florida': 'FL',\n",
    "    'Georgia': 'GA',\n",
    "    'Hawaii': 'HI',\n",
    "    'Idaho': 'ID',\n",
    "    'Illinois': 'IL',\n",
    "    'Indiana': 'IN',\n",
    "    'Iowa': 'IA',\n",
    "    'Kansas': 'KS',\n",
    "    'Kentucky': 'KY',\n",
    "    'Louisiana': 'LA',\n",
    "    'Maine': 'ME',\n",
    "    'Maryland': 'MD',\n",
    "    'Massachusetts': 'MA',\n",
    "    'Michigan': 'MI',\n",
    "    'Minnesota': 'MN',\n",
    "    'Mississippi': 'MS',\n",
    "    'Missouri': 'MO',\n",
    "    'Montana': 'MT',\n",
    "    'Nebraska': 'NE',\n",
    "    'Nevada': 'NV',\n",
    "    'New Hampshire': 'NH',\n",
    "    'New Jersey': 'NJ',\n",
    "    'New Mexico': 'NM',\n",
    "    'New York': 'NY',\n",
    "    'North Carolina': 'NC',\n",
    "    'North Dakota': 'ND',\n",
    "    'Ohio': 'OH',\n",
    "    'Oklahoma': 'OK',\n",
    "    'Oregon': 'OR',\n",
    "    'Pennsylvania': 'PA',\n",
    "    'Rhode Island': 'RI',\n",
    "    'South Carolina': 'SC',\n",
    "    'South Dakota': 'SD',\n",
    "    'Tennessee': 'TN',\n",
    "    'Texas': 'TX',\n",
    "    'Utah': 'UT',\n",
    "    'Vermont': 'VT',\n",
    "    'Virginia': 'VA',\n",
    "    'Washington': 'WA',\n",
    "    'West Virginia': 'WV',\n",
    "    'Wisconsin': 'WI',\n",
    "    'Wyoming': 'WY',\n",
    "}"
   ]
  },
  {
   "cell_type": "code",
   "execution_count": 36,
   "metadata": {},
   "outputs": [],
   "source": [
    "def parseCSV(file_name, delimeter=\",\"):\n",
    "    \"\"\"\n",
    "    reads a csv and yields a list for each line\n",
    "    \"\"\"\n",
    "    with open(file_name, \"r\") as fh:\n",
    "        header = fh.readline().strip().split(delimeter)\n",
    "        list_of_lists = []\n",
    "        for line in fh:\n",
    "            list_of_lists.append(line.strip().split(delimeter))\n",
    "        return header, list_of_lists\n",
    "        "
   ]
  },
  {
   "cell_type": "code",
   "execution_count": 49,
   "metadata": {
    "collapsed": true
   },
   "outputs": [],
   "source": [
    "def writeCSV(file_name, write_list, delimeter=\",\"):\n",
    "    \"\"\"\n",
    "    writes to a csv file from a list of lists (row)\n",
    "    \"\"\"\n",
    "    with open(file_name, \"w\") as fh:\n",
    "        for row in write_list:\n",
    "            fh.write(delimeter.join(row)+'\\n')  # join output lists as str sep by ','"
   ]
  },
  {
   "cell_type": "code",
   "execution_count": 50,
   "metadata": {},
   "outputs": [],
   "source": [
    "def main():\n",
    "    filename_in = 'employee_data1.csv'  # specified from user\n",
    "    fn = filename_in.split('.')\n",
    "    filename_out = fn[0] + '_modified.' + fn[1]\n",
    "    parse = parseCSV(filename_in)\n",
    "    list_of_lists= [parse[0]]\n",
    "    for row in parse[1]:\n",
    "        emp_id = row[0]\n",
    "        names = row[1].split(' ')\n",
    "        first, last = names[0], names[1]\n",
    "        dob = row[2].split('-')\n",
    "        dob_str = '/'.join([dob[1], dob[2], dob[0]])  # join is opposite of split\n",
    "        ssn = '***-**-' + row[3][-4:]\n",
    "        state = us_state_abbrev[row[4]]\n",
    "        lol.append([emp_id, first, last, dob_str, ssn, state])\n",
    "    writeCSV(filename_out, list_of_lists)\n",
    "    "
   ]
  },
  {
   "cell_type": "code",
   "execution_count": 54,
   "metadata": {},
   "outputs": [],
   "source": [
    "main()\n"
   ]
  },
  {
   "cell_type": "code",
   "execution_count": null,
   "metadata": {
    "collapsed": true
   },
   "outputs": [],
   "source": []
  }
 ],
 "metadata": {
  "kernelspec": {
   "display_name": "Python 3",
   "language": "python",
   "name": "python3"
  },
  "language_info": {
   "codemirror_mode": {
    "name": "ipython",
    "version": 3
   },
   "file_extension": ".py",
   "mimetype": "text/x-python",
   "name": "python",
   "nbconvert_exporter": "python",
   "pygments_lexer": "ipython3",
   "version": "3.6.3"
  }
 },
 "nbformat": 4,
 "nbformat_minor": 2
}
